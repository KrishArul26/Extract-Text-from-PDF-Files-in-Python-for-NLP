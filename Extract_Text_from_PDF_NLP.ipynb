{
  "nbformat": 4,
  "nbformat_minor": 0,
  "metadata": {
    "colab": {
      "name": "Extract_Text_from_PDF_NLP.ipynb",
      "provenance": []
    },
    "kernelspec": {
      "name": "python3",
      "display_name": "Python 3"
    },
    "language_info": {
      "name": "python"
    }
  },
  "cells": [
    {
      "cell_type": "markdown",
      "metadata": {
        "id": "KB8HWuFzdfsV"
      },
      "source": [
        "## **Extract Text from PDF Files in Python for NLP**\n",
        "\n",
        "In this notebook, We will see how Python can be used to work with text files.PDF files will be highly used in NLP.So, we have to figure out a way to extract the information from in pdf files in python.  There are many libraries in python that work with PDF files such as:\n",
        "\n",
        "1. PDFQuey\n",
        "2. PDFMiner\n",
        "3. PyPDF2\n",
        "4. Slate\n",
        "5. pdfrw"
      ]
    },
    {
      "cell_type": "markdown",
      "metadata": {
        "id": "8lDQRACBgBij"
      },
      "source": [
        "For this task I'm going to use most important pdf file which is Natural language processing: an introduction research paper. For reading we have to open the pdf. then create a reader object for it and pass the file name into it."
      ]
    },
    {
      "cell_type": "code",
      "metadata": {
        "id": "JWZIb8RjWVZE",
        "colab": {
          "base_uri": "https://localhost:8080/"
        },
        "outputId": "f0c46707-ab71-4fed-f6aa-88fee85d597f"
      },
      "source": [
        "from google.colab import drive\n",
        "drive.mount('/content/drive/')"
      ],
      "execution_count": 25,
      "outputs": [
        {
          "output_type": "stream",
          "text": [
            "Drive already mounted at /content/drive/; to attempt to forcibly remount, call drive.mount(\"/content/drive/\", force_remount=True).\n"
          ],
          "name": "stdout"
        }
      ]
    },
    {
      "cell_type": "code",
      "metadata": {
        "colab": {
          "base_uri": "https://localhost:8080/"
        },
        "id": "pazzndksqu6Y",
        "outputId": "9a2190cc-8ff9-4470-a88c-18bdc959c442"
      },
      "source": [
        "!pip install PyPDF2\n",
        "import PyPDF2\n"
      ],
      "execution_count": 39,
      "outputs": [
        {
          "output_type": "stream",
          "text": [
            "Requirement already satisfied: PyPDF2 in /usr/local/lib/python3.7/dist-packages (1.26.0)\n"
          ],
          "name": "stdout"
        }
      ]
    },
    {
      "cell_type": "markdown",
      "metadata": {
        "id": "rzYW6aIetz9j"
      },
      "source": [
        "\n",
        "##### Find the current working directory\n"
      ]
    },
    {
      "cell_type": "code",
      "metadata": {
        "colab": {
          "base_uri": "https://localhost:8080/"
        },
        "id": "qWxC8-3TmTNx",
        "outputId": "4adac6c0-46cc-4252-a016-56b3eeb8d05a"
      },
      "source": [
        "import os\n",
        "\n",
        "cwd = os.getcwd()  # Get the current working directory (cwd)\n",
        "files = os.listdir(cwd)  # Get all the files in that directory\n",
        "print(\"Files in %r: %s\" % (cwd, files))"
      ],
      "execution_count": 11,
      "outputs": [
        {
          "output_type": "stream",
          "text": [
            "Files in '/content': ['.config', 'drive', 'sample_data']\n"
          ],
          "name": "stdout"
        }
      ]
    },
    {
      "cell_type": "markdown",
      "metadata": {
        "id": "PqyiFyk_mzu2"
      },
      "source": [
        "### Read the pdf file "
      ]
    },
    {
      "cell_type": "code",
      "metadata": {
        "id": "KfP0KqahmmTN"
      },
      "source": [
        "my_file= open(\"/content/drive/MyDrive/Google_colab_project/nlp_introduction.pdf\",'rb')"
      ],
      "execution_count": 26,
      "outputs": []
    },
    {
      "cell_type": "code",
      "metadata": {
        "colab": {
          "base_uri": "https://localhost:8080/"
        },
        "id": "acpVW-8Xmuok",
        "outputId": "e8b0cff5-b165-4ccf-ee34-750014702116"
      },
      "source": [
        "#initializes a PdfFileReader object for the file handler file\n",
        "pdf_reader = pdf.PdfFileReader(my_file)\n",
        "pdf_reader"
      ],
      "execution_count": 27,
      "outputs": [
        {
          "output_type": "execute_result",
          "data": {
            "text/plain": [
              "<PyPDF2.pdf.PdfFileReader at 0x7f6dea082850>"
            ]
          },
          "metadata": {
            "tags": []
          },
          "execution_count": 27
        }
      ]
    },
    {
      "cell_type": "markdown",
      "metadata": {
        "id": "tEDOMELInfxB"
      },
      "source": [
        "### Find the No of Pages"
      ]
    },
    {
      "cell_type": "code",
      "metadata": {
        "colab": {
          "base_uri": "https://localhost:8080/"
        },
        "id": "rJIZb5O_ni5e",
        "outputId": "5fa7802f-40a5-418c-f980-c24477db70e6"
      },
      "source": [
        "print(\"page number of NLP_introduction:\"+str(pdf_reader.numPages))"
      ],
      "execution_count": 29,
      "outputs": [
        {
          "output_type": "stream",
          "text": [
            "page number of NLP_introduction:8\n"
          ],
          "name": "stdout"
        }
      ]
    },
    {
      "cell_type": "markdown",
      "metadata": {
        "id": "kLzxYOi3noRA"
      },
      "source": [
        "### Get the specific page#"
      ]
    },
    {
      "cell_type": "code",
      "metadata": {
        "id": "SIKX79X6nb4s"
      },
      "source": [
        "page1 = pdf_reader.getPage(0)"
      ],
      "execution_count": 30,
      "outputs": []
    },
    {
      "cell_type": "markdown",
      "metadata": {
        "id": "rmXio4Dsn2yU"
      },
      "source": [
        "### **Extracting Text from the each pages**"
      ]
    },
    {
      "cell_type": "code",
      "metadata": {
        "colab": {
          "base_uri": "https://localhost:8080/"
        },
        "id": "I_BZmg-9n7u0",
        "outputId": "08011991-3b95-4290-efb2-6829d6d71933"
      },
      "source": [
        "first_page_text = pdf_reader.getPage(0).extractText()\n",
        "print(first_page_text)"
      ],
      "execution_count": 32,
      "outputs": [
        {
          "output_type": "stream",
          "text": [
            "Naturallanguageprocessing:anintroduction\n",
            "PrakashMNadkarni,\n",
            "1LucilaOhno-Machado,\n",
            "2WendyWChapman\n",
            "2ABSTRACTObjectivesToprovideanoverviewandtutorialofnatural\n",
            "languageprocessing(NLP)andmodernNLP-system\n",
            "\n",
            "design.\n",
            "Targetaudience\n",
            "Thistutorialtargetsthemedical\n",
            "informaticsgeneralistwhohaslimitedacquaintancewith\n",
            "\n",
            "theprinciplesbehindNLPand/orlimitedknowledgeof\n",
            "\n",
            "thecurrentstateoftheart.\n",
            "ScopeWedescribethehistoricalevolutionofNLP,and\n",
            "summarizecommonNLPsub-problemsinthisextensive\n",
            "Þeld.Wethenprovideasynopsisofselectedhighlights\n",
            "\n",
            "ofmedicalNLPefforts.Afterprovidingabriefdescription\n",
            "ofcommonmachine-learningapproachesthatarebeing\n",
            "usedfordiverseNLPsub-problems,wediscusshow\n",
            "\n",
            "modernNLParchitecturesaredesigned,withasummary\n",
            "oftheApacheFoundationÕsUnstructuredInformation\n",
            "ManagementArchitecture.WeÞnallyconsiderpossible\n",
            "\n",
            "futuredirectionsforNLP,andreßectonthepossible\n",
            "impactofIBMWatsononthemedicalÞeld.\n",
            "INTRODUCTIONThistutorialprovidesanoverviewofnatural\n",
            "languageprocessing(NLP)andlaysafoundation\n",
            "forthe\n",
            "JAMIA\n",
            "readertobetterappreciatethearti-\n",
            "clesinthisissue.\n",
            "NLPbeganinthe1950sastheintersectionof\n",
            "articialintelligenceandlinguistics.NLPwasorig-\n",
            "inallydistinctfromtextinformationretrieval(IR),\n",
            "whichemployshighlyscalablestatistics-based\n",
            "techniquestoindexandsearchlargevolumesof\n",
            "\n",
            "textef\n",
            "ciently:Manning\n",
            "etal\n",
            "1provideanexcellent\n",
            "introductiontoIR.Withtime,however,NLPand\n",
            "\n",
            "IRhaveconvergedsomewhat.Currently,NLP\n",
            "\n",
            "borrowsfromseveral,verydiverse\n",
            "elds,requiring\n",
            "today™sNLPresearchersanddeveloperstobroaden\n",
            "theirmentalknowledge-basesigni\n",
            "cantly.\n",
            "Earlysimplisticapproaches,forexample,word-\n",
            "for-wordRussian-to-Englishmachinetranslation,\n",
            "2weredefeatedby\n",
            "homographsdidenticallyspelled\n",
            "wordswithmultiplemeanings\n",
            "dandmetaphor,\n",
            "leadingtotheapocryphalstoryoftheBiblical,\n",
            "‚thespiritiswilling,butthe\n",
            "eshisweak\n",
            "™beingtrans-\n",
            "latedto\n",
            "‚thevodkaisagreeable,butthemeatis\n",
            "spoiled.™Chomsky\n",
            "™s1956theoreticalanalysisoflanguage\n",
            "grammars3providedanestimateoftheproblem\n",
            "™sdifculty,in\n",
            "uencingthecreation(1963)ofBackus-\n",
            "NaurForm(BNF)notation.\n",
            "4BNFisusedtospecify\n",
            "a‚context-freegrammar\n",
            "™5(CFG),andiscommonly\n",
            "usedtorepresentprogramming-languagesyntax.A\n",
            "\n",
            "language™sBNFspeci\n",
            "cationisasetof\n",
            "derivationrules\n",
            "thatcollectivelyvalidateprogramcode\n",
            "syntactically.(\n",
            "‚Rules\n",
            "™hereareabsoluteconstraints,\n",
            "notexpertsystems\n",
            "™heuristics.)Chomskyalso\n",
            "identiedstillmorerestrictive\n",
            "‚regular™grammars,thebasisofthe\n",
            "regularexpressions\n",
            "6usedtospecify\n",
            "text-searchpatterns.Regularexpressionsyntax,\n",
            "denedbyKleene\n",
            "7(1956),was\n",
            "rstsupportedby\n",
            "KenThompson\n",
            "™sgreputility8onUNIX.\n",
            "Subsequently(1970s),lexical-analyzer(lexer)\n",
            "generatorsandparsergeneratorssuchasthe\n",
            "lex/yacc\n",
            "combination\n",
            "9utilizedgrammars.Alexertransforms\n",
            "textintotokens;aparservalidatesatokensequence.\n",
            "\n",
            "Lexer/parsergeneratorssimplifyprogramming-\n",
            "\n",
            "languageimplementationgreatlybytakingregular-\n",
            "expressionandBNFspeci\n",
            "cations,respectively,as\n",
            "input,andgeneratingcodeandlookuptablesthat\n",
            "determinelexing/parsingdecisions.\n",
            "WhileCFGsaretheoreticallyinadequatefor\n",
            "naturallanguage,10theyareoftenemployedfor\n",
            "NLPinpractice.Programminglanguagesaretypi-\n",
            "\n",
            "callydesigneddeliberatelywitharestrictiveCFG\n",
            "variant,anLALR(1)grammar(LALR,Look-Ahead\n",
            "parserwithLeft-to-rightprocessingandRightmost\n",
            "\n",
            "(bottom-up)derivation),\n",
            "4tosimplifyimplementa-\n",
            "tion.AnLALR(1)parserscanstext\n",
            "left-to-right,operatesbottom-up(ie,itbuildscompound\n",
            "constructsfromsimplerones),andusesa\n",
            "look-aheadofa\n",
            "singletokentomakeparsingdecisions.\n",
            "TheProloglanguage\n",
            "11wasoriginallyinvented\n",
            "(1970)forNLPapplications.Itssyntaxisespecially\n",
            "\n",
            "suitedforwritinggrammars,although,inthe\n",
            "easiestimplementationmode(\n",
            "top-downparsing),rulesmustbephraseddifferently(ie,right-recur-\n",
            "sively12)fromthoseintendedfora\n",
            "yacc-styleparser.\n",
            "Top-downparsersareeasiertoimplementthan\n",
            "\n",
            "bottom-upparsers(theydon\n",
            "™tneedgenerators),\n",
            "butaremuchslower.\n",
            "Thelimitationsofhand-writtenrules:theriseof\n",
            "statisticalNLP\n",
            "Naturallanguage\n",
            "™svastlylargesize,unrestrictive\n",
            "nature,andambiguityledtotwoproblemswhen\n",
            "usingstandardparsingapproachesthatrelied\n",
            "purelyonsymbolic,hand-craftedrules:\n",
            "<NLPmustultimatelyextractmeaning(\n",
            "‚seman-tics™)fromtext:formalgrammarsthatspecify\n",
            "relationshipbetweentextunits\n",
            "dpartsofspeech\n",
            "suchasnouns,verbs,andadjectives\n",
            "daddresssyntaxprimarily.Onecanextendgrammarsto\n",
            "\n",
            "addressnatural-languagesemanticsbygreatly\n",
            "expandingsub-categorization,withadditional\n",
            "\n",
            "rules/constraints(eg,\n",
            "‚eat™appliesonlytoingest-\n",
            "ible-itemnouns).Unfortunately,therulesmay\n",
            "nowbecomeunmanageablynumerous,often\n",
            "interactingunpredictably,withmorefrequent\n",
            "\n",
            "ambiguousparses\n",
            "(multipleinterpretationsof\n",
            "awordsequencearepossible).(Puns\n",
            "dambig-uousparsesusedforhumorouseffect\n",
            "dantedateNLP.)\n",
            "<Handwrittenruleshandle\n",
            "‚ungrammatical™spokenproseand(inmedicalcontexts)the\n",
            "\n",
            "highlytelegraphicproseofin-hospitalprogress\n",
            "\n",
            "notesverypoorly,althoughsuchproseis\n",
            "human-comprehensible.1YaleUniversitySchoolof\n",
            "Medicine,NewHaven,\n",
            "Connecticut,USA\n",
            "2UniversityofCalifornia,San\n",
            "DiegoSchoolofMedicine,\n",
            "\n",
            "DivisionofBiomedical\n",
            "\n",
            "Informatics,LaJolla,California,\n",
            "\n",
            "USACorrespondenceto\n",
            "\n",
            "DrPrakashMNadkarni,Yale\n",
            "CenterforMedicalInformatics,\n",
            "300GeorgeSt,NewHaven,CT\n",
            "\n",
            "06511,USA;\n",
            "\n",
            "prakash.nadkarni@yale.edu\n",
            "Received4July2011\n",
            "\n",
            "Accepted6July2011\n",
            "544JAmMedInformAssoc\n",
            "2011;18:544e551.doi:10.1136/amiajnl-2011-000464\n",
            "Review\n",
            "Downloaded from https://academic.oup.com/jamia/article/18/5/544/829676 by guest on 05 May 2021\n"
          ],
          "name": "stdout"
        }
      ]
    },
    {
      "cell_type": "markdown",
      "metadata": {
        "id": "nFsrchxspxJS"
      },
      "source": [
        "### **Extracting texts of all pages**"
      ]
    },
    {
      "cell_type": "code",
      "metadata": {
        "id": "ahcoIPyBn7wz"
      },
      "source": [
        "# Listing of every page's text.\n",
        "# open my pdf\n",
        "pdf_document= open(\"/content/drive/MyDrive/Google_colab_project/nlp_introduction.pdf\",'rb')\n",
        "\n",
        "# create empty list of pdf text\n",
        "pdf_text = []  \n",
        "\n",
        "# create pdf reader object\n",
        "pdf_reader = PyPDF2.PdfFileReader(pdf_document)\n",
        "\n",
        "# range is 2, because number of pages is 2\n",
        "for page in range(pdf_reader.numPages):\n",
        "    # specify the page that its text will be extracted\n",
        "    \n",
        "    page = pdf_reader.getPage(page)\n",
        "    \n",
        "    # extracting the texts of each page and append it to the empty list\n",
        "    pdf_text.append(page.extractText())\n",
        "\n",
        "pdf_document.close()"
      ],
      "execution_count": 45,
      "outputs": []
    },
    {
      "cell_type": "code",
      "metadata": {
        "colab": {
          "base_uri": "https://localhost:8080/"
        },
        "id": "0FIQMozPn70g",
        "outputId": "1ba6cbc9-98ef-4da4-a75e-d046805c333b"
      },
      "source": [
        "# print last page of the pdf\n",
        "print(pdf_text[-1])"
      ],
      "execution_count": 47,
      "outputs": [
        {
          "output_type": "stream",
          "text": [
            "60.SrihariS.\n",
            "MachineLearning:GenerativeandDiscriminativeModels\n",
            ".2010.http://\n",
            "www.cedar.buffalo.edu/\n",
            "wsrihari/CSE574/Discriminative-Generative.pdf(accessed\n",
            "31May2011).\n",
            "61.ElkanC.\n",
            "Log-LinearModelsandConditionalRandomFields\n",
            ".2008.http://cseweb.\n",
            "ucsd.edu/welkan/250B/cikmtutorial.pdf(accessed28Jun2011).\n",
            "62.HearstMA,\n",
            "DumaisST,OsmanE,\n",
            "etal\n",
            ".Supportvectormachines.\n",
            "IEEEIntelSys\n",
            "Appl1998;13:18e28.63.DTREGInc.\n",
            "AnintroductiontoSupportVectorMachines\n",
            ".2011.http://www.dtreg.\n",
            "com/svm.htm(accessed4Jun2011).\n",
            "64.FradkinD,\n",
            "MuchnikI.SupportvectormachinesforclassiÞcation.In:AbelloJ,\n",
            "CarmodeG,eds.\n",
            "DiscreteMethodsinEpidemiology\n",
            ".Piscataway,NJ:RutgersState\n",
            "UniversityofNewJersey,2006:13\n",
            "e20.65.ViterbiA.\n",
            "Errorboundsforconvolutionalcodesandanasymptoticallyoptimum\n",
            "decodingalgorithm.\n",
            "IEEETransInformTheor\n",
            "1967;13:260e9.66.DempsterAP,\n",
            "LairdNM,RubinDB.MaximumLikelihoodfromIncompleteDatavia\n",
            "theEMAlgorithm.\n",
            "JRoyStatSoc\n",
            "1977;39:1e38.67.Hasegawa-JohnsonM.\n",
            "Multivariate-statehiddenMarkovmodelsforsimultaneous\n",
            "transcriptionofphonesandformants.\n",
            "IEEEInternationalConferenceonAcoustics,\n",
            "Speech,andSignalProcessing(ICASSP);2000\n",
            ".Istanbul,Turkey:2000:1323\n",
            "e26.http://www.isle.illinois.edu/pubs/2000/hasegawa-johnson00icassp.pdf(accessed20\n",
            "Jul2011).\n",
            "68.ZhangJ,\n",
            "ShenD,ZhouG,\n",
            "etal\n",
            ".TanC-l.Exploringdeepknowledgeresourcesin\n",
            "biomedicalnamerecognition.\n",
            "JBiomedInform\n",
            "2004;37:411e22.69.SonnhammerELL,\n",
            "EddySR,BirneyE,\n",
            "etal\n",
            ".Pfam:Multiplesequencealignments\n",
            "andHMM-proÞlesofproteindomains.\n",
            "NucleicAcidsRes\n",
            "1998;26:320e2.70.LukashinA,\n",
            "BorodovskyM.GeneMark.hmm:newsolutionsforgeneÞnding.\n",
            "NucleicAcidsRes\n",
            "1998;26:1107e15.71.EddySR.WhatisahiddenMarkovmodel?\n",
            "NatBiotechnol\n",
            "2004;22:1315e16.72.RabinerLR.\n",
            "ATutorialonHiddenMarkovModelsandSelectedApplicationsin\n",
            "SpeechRecognition.\n",
            "ProcIEEE\n",
            "1989;77:257e86.73.LaffertyJ,\n",
            "McCallumA,PereiraF.ConditionalrandomÞelds:Probabilisticmodelsfor\n",
            "segmentingandlabelingsequencedata.\n",
            "Proc18thInternationalConfonMachine\n",
            "Learning;2001\n",
            ".2001:282\n",
            "e9.http://www.cis.upenn.edu/\n",
            "wpereira/papers/crf.pdf\n",
            "(accessed20Jul2011).\n",
            "74.CulottaA,\n",
            "KulpD,McCallumA.\n",
            "GenePredictionwithConditionalRandomFields\n",
            ".2005.\n",
            "http://www.cs.umass.edu/\n",
            "wculotta/pubs/culotta05gene.pdf(accessed1Jun2011).\n",
            "75.SuttonC,\n",
            "McCallumA.\n",
            "AnIntroductiontoConditionalRandomFieldsforRelational\n",
            "Learning.Amherst:UniversityofMassachusetts,2004.\n",
            "76.FranzA,\n",
            "BrantsT.\n",
            "GoogleN-gramdatabase(allourN-gramsbelongtoyou)\n",
            ".2011.\n",
            "http://googleresearch.blogspot.com/2006/08/all-our-n-gram-are-belong-to-you.html\n",
            "(accessed1Jun2011).\n",
            "77.UniversityofShefÞeldNaturalLanguageGroup.\n",
            "InformationExtraction:the\n",
            "GATEpipeline\n",
            ".2011.http://www.gate.ac.uk/ie(accessed1Jun2011).\n",
            "78.ApacheFoundation.\n",
            "TheUnstructuredInformationManagementArchitecture\n",
            ".2011.\n",
            "http://uima.apache.org(accessed3Jun2011).\n",
            "79.ApacheFoundation.\n",
            "ApacheUIMADocumentationversion2.3.1\n",
            ".2011.http://uima.\n",
            "apache.org/documentation.html(accessed3Jun2011).\n",
            "80.ThompsonC,\n",
            "CaliffM,MooneyR.Activelearningfornaturallanguageparsingand\n",
            "informationextraction.In:ConferencePotSIML,ed.1999.http://www.aidanf.net/\n",
            "\n",
            "publications/Þnn03active.pdf(accessed20July).\n",
            "81.NorthAmericanChapteroftheAssociationforComputationalLinguistics.\n",
            "Active\n",
            "LearningforNLP\n",
            ".2020.http://active-learning.net/alnlp2010.(accessed7Jun2011).\n",
            "82.FodorP,\n",
            "LallyA,FerrucciD.\n",
            "ThePrologInterfacetotheUnstructuredInformation\n",
            "ManagementArchitecture\n",
            ".2011.http://arxiv.org/ftp/arxiv/papers/0809/0809.0680.\n",
            "pdf(accessed4Jun2011).\n",
            "83.LallyA,\n",
            "FodorP.\n",
            "NaturalLanguageProcessingWithPrologintheIBMWatson\n",
            "System.AssociationforLogicProgramming(ALP)Newsletter,2011.http://www.cs.\n",
            "nmsu.edu/ALP/2011/03/natural-language-processing-with-prolog-in-the-ibm-watson-\n",
            "system/(accessed20Jul2011).\n",
            "84.LibrescoLA.\n",
            "ANon-TrivialAdvantageforWatson\n",
            ".HufÞngtonPost(tech).2011.\n",
            "http://www.hufÞngtonpost.com/leah-anthony-libresco/a-nontrivial-advantage-\n",
            "fo_b_825837.html(accessed20Jul2011).\n",
            "85.JenningsK.\n",
            "Conversation:Jeopardy!ChampKenJenningsWashingtonPost.2011.\n",
            "http://live.washingtonpost.com/jeopardy-ken-jennings.html(accessed20Jul2011).\n",
            "86.FitzgeraldJ.\n",
            "ÕJeopardy!Õ-winningcomputerdelvingintomedicine.2011.http://\n",
            "www.physorg.com/news/2011-05-jeopardy-winning-delving-medicine.html\n",
            "\n",
            "(accessed4Jun2011).\n",
            "87.BernerES,\n",
            "WebsterGD,ShugermanAA,\n",
            "etal\n",
            ".Performanceoffourcomputer-based\n",
            "diagnosticsystems.\n",
            "NEnglJMed\n",
            ".1994;\n",
            "330:1792e6.88.FriedmanCP,\n",
            "ElsteinAS,WolfFM,\n",
            "etal\n",
            ".EnhancementofcliniciansÕdiagnostic\n",
            "reasoningbycomputer-basedconsultation:amultisitestudyof2systems.\n",
            "JAMA1999;282:1851e6.89.MillerR,\n",
            "MasarieF.ThedemiseoftheGreekoraclemodelofdiagnosticdecision\n",
            "supportsystems.\n",
            "MethInformMed\n",
            "1990;29:1e8.90.MillerR.\n",
            "Medicaldiagnosticdecisionsupportsystems\n",
            "epast,present,andfuture:\n",
            "athreadedbibliographyandbriefcommentary.\n",
            "JAmMedInformAssoc\n",
            "1994;\n",
            "1:8e27.PAGEfractiontrail=7.5\n",
            "JAmMedInformAssoc\n",
            "2011;18:544e551.doi:10.1136/amiajnl-2011-000464\n",
            "551Review\n",
            "Downloaded from https://academic.oup.com/jamia/article/18/5/544/829676 by guest on 05 May 2021\n"
          ],
          "name": "stdout"
        }
      ]
    },
    {
      "cell_type": "markdown",
      "metadata": {
        "id": "K7LcYFk3rkzC"
      },
      "source": [
        "### **Append, Write or Merge PDFs**"
      ]
    },
    {
      "cell_type": "code",
      "metadata": {
        "id": "ri5HoQ1in72I"
      },
      "source": [
        "pdf_writer = pdf.PdfFileWriter()"
      ],
      "execution_count": 48,
      "outputs": []
    },
    {
      "cell_type": "markdown",
      "metadata": {
        "id": "b1o2bN7Qr1In"
      },
      "source": [
        "### Exctract page1 and page2"
      ]
    },
    {
      "cell_type": "code",
      "metadata": {
        "id": "xJS0EcCFr4pt"
      },
      "source": [
        "page1 = pdf_reader.getPage(0)\n",
        "page2 = pdf_reader.getPage(1)"
      ],
      "execution_count": 49,
      "outputs": []
    },
    {
      "cell_type": "code",
      "metadata": {
        "id": "ZqY8E-KVn75y"
      },
      "source": [
        "pdf_writer.addPage(page2)\n",
        "pdf_writer.addPage(page1)"
      ],
      "execution_count": 50,
      "outputs": []
    },
    {
      "cell_type": "code",
      "metadata": {
        "id": "ajnS5_BdsA1-"
      },
      "source": [
        "output = open('Pages.pdf','wb')\n",
        "pdf_writer.write(output)\n",
        "output.close()"
      ],
      "execution_count": 51,
      "outputs": []
    },
    {
      "cell_type": "markdown",
      "metadata": {
        "id": "4lA7YJPouLfn"
      },
      "source": [
        "### Conclusion\n",
        "Reading and writing file is a fundamental step for developing natural language processing(NLP) applications. We explained how we can work with the PDF files using Python. We saw how to read and write text and PDF files.\n"
      ]
    },
    {
      "cell_type": "code",
      "metadata": {
        "colab": {
          "base_uri": "https://localhost:8080/"
        },
        "id": "ba6NZ93ZgXYQ",
        "outputId": "d55f76a3-b345-4d69-fa02-616683887fce"
      },
      "source": [
        "help(pdf_reader)"
      ],
      "execution_count": 19,
      "outputs": [
        {
          "output_type": "stream",
          "text": [
            "Help on PdfFileReader in module PyPDF2.pdf object:\n",
            "\n",
            "class PdfFileReader(builtins.object)\n",
            " |  PdfFileReader(stream, strict=True, warndest=None, overwriteWarnings=True)\n",
            " |  \n",
            " |  Initializes a PdfFileReader object.  This operation can take some time, as\n",
            " |  the PDF stream's cross-reference tables are read into memory.\n",
            " |  \n",
            " |  :param stream: A File object or an object that supports the standard read\n",
            " |      and seek methods similar to a File object. Could also be a\n",
            " |      string representing a path to a PDF file.\n",
            " |  :param bool strict: Determines whether user should be warned of all\n",
            " |      problems and also causes some correctable problems to be fatal.\n",
            " |      Defaults to ``True``.\n",
            " |  :param warndest: Destination for logging warnings (defaults to\n",
            " |      ``sys.stderr``).\n",
            " |  :param bool overwriteWarnings: Determines whether to override Python's\n",
            " |      ``warnings.py`` module with a custom implementation (defaults to\n",
            " |      ``True``).\n",
            " |  \n",
            " |  Methods defined here:\n",
            " |  \n",
            " |  __init__(self, stream, strict=True, warndest=None, overwriteWarnings=True)\n",
            " |      Initialize self.  See help(type(self)) for accurate signature.\n",
            " |  \n",
            " |  cacheGetIndirectObject(self, generation, idnum)\n",
            " |  \n",
            " |  cacheIndirectObject(self, generation, idnum, obj)\n",
            " |  \n",
            " |  decrypt(self, password)\n",
            " |      When using an encrypted / secured PDF file with the PDF Standard\n",
            " |      encryption handler, this function will allow the file to be decrypted.\n",
            " |      It checks the given password against the document's user password and\n",
            " |      owner password, and then stores the resulting decryption key if either\n",
            " |      password is correct.\n",
            " |      \n",
            " |      It does not matter which password was matched.  Both passwords provide\n",
            " |      the correct decryption key that will allow the document to be used with\n",
            " |      this library.\n",
            " |      \n",
            " |      :param str password: The password to match.\n",
            " |      :return: ``0`` if the password failed, ``1`` if the password matched the user\n",
            " |          password, and ``2`` if the password matched the owner password.\n",
            " |      :rtype: int\n",
            " |      :raises NotImplementedError: if document uses an unsupported encryption\n",
            " |          method.\n",
            " |  \n",
            " |  getDestinationPageNumber(self, destination)\n",
            " |      Retrieve page number of a given Destination object\n",
            " |      \n",
            " |      :param Destination destination: The destination to get page number.\n",
            " |           Should be an instance of\n",
            " |           :class:`Destination<PyPDF2.pdf.Destination>`\n",
            " |      :return: the page number or -1 if page not found\n",
            " |      :rtype: int\n",
            " |  \n",
            " |  getDocumentInfo(self)\n",
            " |      Retrieves the PDF file's document information dictionary, if it exists.\n",
            " |      Note that some PDF files use metadata streams instead of docinfo\n",
            " |      dictionaries, and these metadata streams will not be accessed by this\n",
            " |      function.\n",
            " |      \n",
            " |      :return: the document information of this PDF file\n",
            " |      :rtype: :class:`DocumentInformation<pdf.DocumentInformation>` or ``None`` if none exists.\n",
            " |  \n",
            " |  getFields(self, tree=None, retval=None, fileobj=None)\n",
            " |      Extracts field data if this PDF contains interactive form fields.\n",
            " |      The *tree* and *retval* parameters are for recursive use.\n",
            " |      \n",
            " |      :param fileobj: A file object (usually a text file) to write\n",
            " |          a report to on all interactive form fields found.\n",
            " |      :return: A dictionary where each key is a field name, and each\n",
            " |          value is a :class:`Field<PyPDF2.generic.Field>` object. By\n",
            " |          default, the mapping name is used for keys.\n",
            " |      :rtype: dict, or ``None`` if form data could not be located.\n",
            " |  \n",
            " |  getFormTextFields(self)\n",
            " |      Retrieves form fields from the document with textual data (inputs, dropdowns)\n",
            " |  \n",
            " |  getIsEncrypted(self)\n",
            " |  \n",
            " |  getNamedDestinations(self, tree=None, retval=None)\n",
            " |      Retrieves the named destinations present in the document.\n",
            " |      \n",
            " |      :return: a dictionary which maps names to\n",
            " |          :class:`Destinations<PyPDF2.generic.Destination>`.\n",
            " |      :rtype: dict\n",
            " |  \n",
            " |  getNumPages(self)\n",
            " |      Calculates the number of pages in this PDF file.\n",
            " |      \n",
            " |      :return: number of pages\n",
            " |      :rtype: int\n",
            " |      :raises PdfReadError: if file is encrypted and restrictions prevent\n",
            " |          this action.\n",
            " |  \n",
            " |  getObject(self, indirectReference)\n",
            " |  \n",
            " |  getOutlines(self, node=None, outlines=None)\n",
            " |      Retrieves the document outline present in the document.\n",
            " |      \n",
            " |      :return: a nested list of :class:`Destinations<PyPDF2.generic.Destination>`.\n",
            " |  \n",
            " |  getPage(self, pageNumber)\n",
            " |      Retrieves a page by number from this PDF file.\n",
            " |      \n",
            " |      :param int pageNumber: The page number to retrieve\n",
            " |          (pages begin at zero)\n",
            " |      :return: a :class:`PageObject<pdf.PageObject>` instance.\n",
            " |      :rtype: :class:`PageObject<pdf.PageObject>`\n",
            " |  \n",
            " |  getPageLayout(self)\n",
            " |      Get the page layout.\n",
            " |      See :meth:`setPageLayout()<PdfFileWriter.setPageLayout>`\n",
            " |      for a description of valid layouts.\n",
            " |      \n",
            " |      :return: Page layout currently being used.\n",
            " |      :rtype: ``str``, ``None`` if not specified\n",
            " |  \n",
            " |  getPageMode(self)\n",
            " |      Get the page mode.\n",
            " |      See :meth:`setPageMode()<PdfFileWriter.setPageMode>`\n",
            " |      for a description of valid modes.\n",
            " |      \n",
            " |      :return: Page mode currently being used.\n",
            " |      :rtype: ``str``, ``None`` if not specified\n",
            " |  \n",
            " |  getPageNumber(self, page)\n",
            " |      Retrieve page number of a given PageObject\n",
            " |      \n",
            " |      :param PageObject page: The page to get page number. Should be\n",
            " |          an instance of :class:`PageObject<PyPDF2.pdf.PageObject>`\n",
            " |      :return: the page number or -1 if page not found\n",
            " |      :rtype: int\n",
            " |  \n",
            " |  getXmpMetadata(self)\n",
            " |      Retrieves XMP (Extensible Metadata Platform) data from the PDF document\n",
            " |      root.\n",
            " |      \n",
            " |      :return: a :class:`XmpInformation<xmp.XmpInformation>`\n",
            " |          instance that can be used to access XMP metadata from the document.\n",
            " |      :rtype: :class:`XmpInformation<xmp.XmpInformation>` or\n",
            " |          ``None`` if no metadata was found on the document root.\n",
            " |  \n",
            " |  read(self, stream)\n",
            " |  \n",
            " |  readNextEndLine(self, stream)\n",
            " |  \n",
            " |  readObjectHeader(self, stream)\n",
            " |  \n",
            " |  ----------------------------------------------------------------------\n",
            " |  Data descriptors defined here:\n",
            " |  \n",
            " |  __dict__\n",
            " |      dictionary for instance variables (if defined)\n",
            " |  \n",
            " |  __weakref__\n",
            " |      list of weak references to the object (if defined)\n",
            " |  \n",
            " |  documentInfo\n",
            " |  \n",
            " |  isEncrypted\n",
            " |  \n",
            " |  namedDestinations\n",
            " |  \n",
            " |  numPages\n",
            " |  \n",
            " |  outlines\n",
            " |  \n",
            " |  pageLayout\n",
            " |      Get the page layout.\n",
            " |      See :meth:`setPageLayout()<PdfFileWriter.setPageLayout>`\n",
            " |      for a description of valid layouts.\n",
            " |      \n",
            " |      :return: Page layout currently being used.\n",
            " |      :rtype: ``str``, ``None`` if not specified\n",
            " |  \n",
            " |  pageMode\n",
            " |      Get the page mode.\n",
            " |      See :meth:`setPageMode()<PdfFileWriter.setPageMode>`\n",
            " |      for a description of valid modes.\n",
            " |      \n",
            " |      :return: Page mode currently being used.\n",
            " |      :rtype: ``str``, ``None`` if not specified\n",
            " |  \n",
            " |  pages\n",
            " |  \n",
            " |  xmpMetadata\n",
            "\n"
          ],
          "name": "stdout"
        }
      ]
    }
  ]
}